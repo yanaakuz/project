{
  "nbformat": 4,
  "nbformat_minor": 0,
  "metadata": {
    "colab": {
      "provenance": [],
      "include_colab_link": true
    },
    "kernelspec": {
      "name": "python3",
      "display_name": "Python 3"
    },
    "language_info": {
      "name": "python"
    }
  },
  "cells": [
    {
      "cell_type": "markdown",
      "metadata": {
        "id": "view-in-github",
        "colab_type": "text"
      },
      "source": [
        "<a href=\"https://colab.research.google.com/github/yanaakuz/project/blob/main/lessons1.ipynb\" target=\"_parent\"><img src=\"https://colab.research.google.com/assets/colab-badge.svg\" alt=\"Open In Colab\"/></a>"
      ]
    },
    {
      "cell_type": "markdown",
      "source": [],
      "metadata": {
        "id": "RKYhVG8xXzq9"
      }
    },
    {
      "cell_type": "markdown",
      "source": [
        "**<font color=\"red\">ВАЖНО! Работайте с копией данного блокнота!</font>**"
      ],
      "metadata": {
        "id": "gb-BsX_NPfdG"
      }
    },
    {
      "cell_type": "markdown",
      "source": [
        "Онлайн-сообщество специалистов по машинному обучению публикует датасеты на площадке для образования в области искусственного интеллекта Kaggle.\n",
        "\n",
        "Для этого урока мы скачали датасет о вышедших фильмах."
      ],
      "metadata": {
        "id": "kSZKm3Z-B51Y"
      }
    },
    {
      "cell_type": "markdown",
      "source": [
        "## Импорт библиотек"
      ],
      "metadata": {
        "id": "ze6l9BQlGtj6"
      }
    },
    {
      "cell_type": "code",
      "execution_count": null,
      "metadata": {
        "id": "hCOgVRUAExbK"
      },
      "outputs": [],
      "source": [
        "# Импортируем библиотеку для обработки и анализа данных pandas\n",
        "import pandas as pd\n",
        "# Импортируем модуль files из библиотеки google.colab для загрузки собственных файлов с локального диска\n",
        "from google.colab import files"
      ]
    },
    {
      "cell_type": "markdown",
      "source": [
        "## Получение и обзор данных"
      ],
      "metadata": {
        "id": "LYDzhlhFGlZT"
      }
    },
    {
      "cell_type": "code",
      "source": [
        "# Склонируем репозиторий GitHub с нужными файлами\n",
        "!git clone https://github.com/irinaAvdeeva/dataset"
      ],
      "metadata": {
        "id": "pE5v4mcQGqim",
        "colab": {
          "base_uri": "https://localhost:8080/"
        },
        "outputId": "30551e21-1363-4bdc-dd78-da119c8a92c5"
      },
      "execution_count": null,
      "outputs": [
        {
          "output_type": "stream",
          "name": "stdout",
          "text": [
            "Cloning into 'dataset'...\n",
            "remote: Enumerating objects: 19, done.\u001b[K\n",
            "remote: Counting objects: 100% (19/19), done.\u001b[K\n",
            "remote: Compressing objects: 100% (18/18), done.\u001b[K\n",
            "remote: Total 19 (delta 4), reused 0 (delta 0), pack-reused 0\u001b[K\n",
            "Receiving objects: 100% (19/19), 3.48 MiB | 9.45 MiB/s, done.\n",
            "Resolving deltas: 100% (4/4), done.\n"
          ]
        }
      ]
    },
    {
      "cell_type": "code",
      "source": [
        "# или загрузите свой файл, раскомментировав строчку ниже\n",
        "# files.upload()"
      ],
      "metadata": {
        "id": "oON-yRRPNZie"
      },
      "execution_count": null,
      "outputs": []
    },
    {
      "cell_type": "code",
      "source": [
        "# Считаем csv-файл и сохраним его в переменную df\n",
        "df = pd.read_csv('dataset/m_dataset.csv')"
      ],
      "metadata": {
        "id": "rYsNAULsNxvk"
      },
      "execution_count": null,
      "outputs": []
    },
    {
      "cell_type": "code",
      "source": [
        "# Посмотрим на первые пять строк датафрейма\n",
        "df.head()"
      ],
      "metadata": {
        "id": "ML6coTaPOqGh",
        "colab": {
          "base_uri": "https://localhost:8080/",
          "height": 206
        },
        "outputId": "c2cc97c6-07cc-4be1-862a-ccf341bcd803"
      },
      "execution_count": null,
      "outputs": [
        {
          "output_type": "execute_result",
          "data": {
            "text/plain": [
              "   id     type                         title       director        country  \\\n",
              "0   0    Movie          Puppy Star Christmas   Robert Vince  United States   \n",
              "1   1  TV Show                  Age of Tanks      Not Given        Germany   \n",
              "2   2  TV Show  Pokémon Journeys: The Series      Not Given       Pakistan   \n",
              "3   3    Movie                 Patiala House  Nikhil Advani          India   \n",
              "4   4  TV Show                      Alien TV      Not Given       Pakistan   \n",
              "\n",
              "   release_year rating   duration  \\\n",
              "0          2018     PG     91 min   \n",
              "1          2017  TV-PG   1 Season   \n",
              "2          2021  TV-Y7  4 Seasons   \n",
              "3          2011  TV-PG    140 min   \n",
              "4          2021  TV-Y7  2 Seasons   \n",
              "\n",
              "                                           listed_in  \n",
              "0                 Children & Family Movies, Comedies  \n",
              "1  Docuseries, International TV Shows, Science & ...  \n",
              "2      Anime Series, Kids' TV, TV Action & Adventure  \n",
              "3        Dramas, International Movies, Sports Movies  \n",
              "4                              Kids' TV, TV Comedies  "
            ],
            "text/html": [
              "\n",
              "  <div id=\"df-aad40b41-29c0-4fe3-a27d-c1e10d1bc252\" class=\"colab-df-container\">\n",
              "    <div>\n",
              "<style scoped>\n",
              "    .dataframe tbody tr th:only-of-type {\n",
              "        vertical-align: middle;\n",
              "    }\n",
              "\n",
              "    .dataframe tbody tr th {\n",
              "        vertical-align: top;\n",
              "    }\n",
              "\n",
              "    .dataframe thead th {\n",
              "        text-align: right;\n",
              "    }\n",
              "</style>\n",
              "<table border=\"1\" class=\"dataframe\">\n",
              "  <thead>\n",
              "    <tr style=\"text-align: right;\">\n",
              "      <th></th>\n",
              "      <th>id</th>\n",
              "      <th>type</th>\n",
              "      <th>title</th>\n",
              "      <th>director</th>\n",
              "      <th>country</th>\n",
              "      <th>release_year</th>\n",
              "      <th>rating</th>\n",
              "      <th>duration</th>\n",
              "      <th>listed_in</th>\n",
              "    </tr>\n",
              "  </thead>\n",
              "  <tbody>\n",
              "    <tr>\n",
              "      <th>0</th>\n",
              "      <td>0</td>\n",
              "      <td>Movie</td>\n",
              "      <td>Puppy Star Christmas</td>\n",
              "      <td>Robert Vince</td>\n",
              "      <td>United States</td>\n",
              "      <td>2018</td>\n",
              "      <td>PG</td>\n",
              "      <td>91 min</td>\n",
              "      <td>Children &amp; Family Movies, Comedies</td>\n",
              "    </tr>\n",
              "    <tr>\n",
              "      <th>1</th>\n",
              "      <td>1</td>\n",
              "      <td>TV Show</td>\n",
              "      <td>Age of Tanks</td>\n",
              "      <td>Not Given</td>\n",
              "      <td>Germany</td>\n",
              "      <td>2017</td>\n",
              "      <td>TV-PG</td>\n",
              "      <td>1 Season</td>\n",
              "      <td>Docuseries, International TV Shows, Science &amp; ...</td>\n",
              "    </tr>\n",
              "    <tr>\n",
              "      <th>2</th>\n",
              "      <td>2</td>\n",
              "      <td>TV Show</td>\n",
              "      <td>Pokémon Journeys: The Series</td>\n",
              "      <td>Not Given</td>\n",
              "      <td>Pakistan</td>\n",
              "      <td>2021</td>\n",
              "      <td>TV-Y7</td>\n",
              "      <td>4 Seasons</td>\n",
              "      <td>Anime Series, Kids' TV, TV Action &amp; Adventure</td>\n",
              "    </tr>\n",
              "    <tr>\n",
              "      <th>3</th>\n",
              "      <td>3</td>\n",
              "      <td>Movie</td>\n",
              "      <td>Patiala House</td>\n",
              "      <td>Nikhil Advani</td>\n",
              "      <td>India</td>\n",
              "      <td>2011</td>\n",
              "      <td>TV-PG</td>\n",
              "      <td>140 min</td>\n",
              "      <td>Dramas, International Movies, Sports Movies</td>\n",
              "    </tr>\n",
              "    <tr>\n",
              "      <th>4</th>\n",
              "      <td>4</td>\n",
              "      <td>TV Show</td>\n",
              "      <td>Alien TV</td>\n",
              "      <td>Not Given</td>\n",
              "      <td>Pakistan</td>\n",
              "      <td>2021</td>\n",
              "      <td>TV-Y7</td>\n",
              "      <td>2 Seasons</td>\n",
              "      <td>Kids' TV, TV Comedies</td>\n",
              "    </tr>\n",
              "  </tbody>\n",
              "</table>\n",
              "</div>\n",
              "    <div class=\"colab-df-buttons\">\n",
              "\n",
              "  <div class=\"colab-df-container\">\n",
              "    <button class=\"colab-df-convert\" onclick=\"convertToInteractive('df-aad40b41-29c0-4fe3-a27d-c1e10d1bc252')\"\n",
              "            title=\"Convert this dataframe to an interactive table.\"\n",
              "            style=\"display:none;\">\n",
              "\n",
              "  <svg xmlns=\"http://www.w3.org/2000/svg\" height=\"24px\" viewBox=\"0 -960 960 960\">\n",
              "    <path d=\"M120-120v-720h720v720H120Zm60-500h600v-160H180v160Zm220 220h160v-160H400v160Zm0 220h160v-160H400v160ZM180-400h160v-160H180v160Zm440 0h160v-160H620v160ZM180-180h160v-160H180v160Zm440 0h160v-160H620v160Z\"/>\n",
              "  </svg>\n",
              "    </button>\n",
              "\n",
              "  <style>\n",
              "    .colab-df-container {\n",
              "      display:flex;\n",
              "      gap: 12px;\n",
              "    }\n",
              "\n",
              "    .colab-df-convert {\n",
              "      background-color: #E8F0FE;\n",
              "      border: none;\n",
              "      border-radius: 50%;\n",
              "      cursor: pointer;\n",
              "      display: none;\n",
              "      fill: #1967D2;\n",
              "      height: 32px;\n",
              "      padding: 0 0 0 0;\n",
              "      width: 32px;\n",
              "    }\n",
              "\n",
              "    .colab-df-convert:hover {\n",
              "      background-color: #E2EBFA;\n",
              "      box-shadow: 0px 1px 2px rgba(60, 64, 67, 0.3), 0px 1px 3px 1px rgba(60, 64, 67, 0.15);\n",
              "      fill: #174EA6;\n",
              "    }\n",
              "\n",
              "    .colab-df-buttons div {\n",
              "      margin-bottom: 4px;\n",
              "    }\n",
              "\n",
              "    [theme=dark] .colab-df-convert {\n",
              "      background-color: #3B4455;\n",
              "      fill: #D2E3FC;\n",
              "    }\n",
              "\n",
              "    [theme=dark] .colab-df-convert:hover {\n",
              "      background-color: #434B5C;\n",
              "      box-shadow: 0px 1px 3px 1px rgba(0, 0, 0, 0.15);\n",
              "      filter: drop-shadow(0px 1px 2px rgba(0, 0, 0, 0.3));\n",
              "      fill: #FFFFFF;\n",
              "    }\n",
              "  </style>\n",
              "\n",
              "    <script>\n",
              "      const buttonEl =\n",
              "        document.querySelector('#df-aad40b41-29c0-4fe3-a27d-c1e10d1bc252 button.colab-df-convert');\n",
              "      buttonEl.style.display =\n",
              "        google.colab.kernel.accessAllowed ? 'block' : 'none';\n",
              "\n",
              "      async function convertToInteractive(key) {\n",
              "        const element = document.querySelector('#df-aad40b41-29c0-4fe3-a27d-c1e10d1bc252');\n",
              "        const dataTable =\n",
              "          await google.colab.kernel.invokeFunction('convertToInteractive',\n",
              "                                                    [key], {});\n",
              "        if (!dataTable) return;\n",
              "\n",
              "        const docLinkHtml = 'Like what you see? Visit the ' +\n",
              "          '<a target=\"_blank\" href=https://colab.research.google.com/notebooks/data_table.ipynb>data table notebook</a>'\n",
              "          + ' to learn more about interactive tables.';\n",
              "        element.innerHTML = '';\n",
              "        dataTable['output_type'] = 'display_data';\n",
              "        await google.colab.output.renderOutput(dataTable, element);\n",
              "        const docLink = document.createElement('div');\n",
              "        docLink.innerHTML = docLinkHtml;\n",
              "        element.appendChild(docLink);\n",
              "      }\n",
              "    </script>\n",
              "  </div>\n",
              "\n",
              "\n",
              "<div id=\"df-9da6fdfc-eb63-426b-a641-6192b4f9e852\">\n",
              "  <button class=\"colab-df-quickchart\" onclick=\"quickchart('df-9da6fdfc-eb63-426b-a641-6192b4f9e852')\"\n",
              "            title=\"Suggest charts.\"\n",
              "            style=\"display:none;\">\n",
              "\n",
              "<svg xmlns=\"http://www.w3.org/2000/svg\" height=\"24px\"viewBox=\"0 0 24 24\"\n",
              "     width=\"24px\">\n",
              "    <g>\n",
              "        <path d=\"M19 3H5c-1.1 0-2 .9-2 2v14c0 1.1.9 2 2 2h14c1.1 0 2-.9 2-2V5c0-1.1-.9-2-2-2zM9 17H7v-7h2v7zm4 0h-2V7h2v10zm4 0h-2v-4h2v4z\"/>\n",
              "    </g>\n",
              "</svg>\n",
              "  </button>\n",
              "\n",
              "<style>\n",
              "  .colab-df-quickchart {\n",
              "      --bg-color: #E8F0FE;\n",
              "      --fill-color: #1967D2;\n",
              "      --hover-bg-color: #E2EBFA;\n",
              "      --hover-fill-color: #174EA6;\n",
              "      --disabled-fill-color: #AAA;\n",
              "      --disabled-bg-color: #DDD;\n",
              "  }\n",
              "\n",
              "  [theme=dark] .colab-df-quickchart {\n",
              "      --bg-color: #3B4455;\n",
              "      --fill-color: #D2E3FC;\n",
              "      --hover-bg-color: #434B5C;\n",
              "      --hover-fill-color: #FFFFFF;\n",
              "      --disabled-bg-color: #3B4455;\n",
              "      --disabled-fill-color: #666;\n",
              "  }\n",
              "\n",
              "  .colab-df-quickchart {\n",
              "    background-color: var(--bg-color);\n",
              "    border: none;\n",
              "    border-radius: 50%;\n",
              "    cursor: pointer;\n",
              "    display: none;\n",
              "    fill: var(--fill-color);\n",
              "    height: 32px;\n",
              "    padding: 0;\n",
              "    width: 32px;\n",
              "  }\n",
              "\n",
              "  .colab-df-quickchart:hover {\n",
              "    background-color: var(--hover-bg-color);\n",
              "    box-shadow: 0 1px 2px rgba(60, 64, 67, 0.3), 0 1px 3px 1px rgba(60, 64, 67, 0.15);\n",
              "    fill: var(--button-hover-fill-color);\n",
              "  }\n",
              "\n",
              "  .colab-df-quickchart-complete:disabled,\n",
              "  .colab-df-quickchart-complete:disabled:hover {\n",
              "    background-color: var(--disabled-bg-color);\n",
              "    fill: var(--disabled-fill-color);\n",
              "    box-shadow: none;\n",
              "  }\n",
              "\n",
              "  .colab-df-spinner {\n",
              "    border: 2px solid var(--fill-color);\n",
              "    border-color: transparent;\n",
              "    border-bottom-color: var(--fill-color);\n",
              "    animation:\n",
              "      spin 1s steps(1) infinite;\n",
              "  }\n",
              "\n",
              "  @keyframes spin {\n",
              "    0% {\n",
              "      border-color: transparent;\n",
              "      border-bottom-color: var(--fill-color);\n",
              "      border-left-color: var(--fill-color);\n",
              "    }\n",
              "    20% {\n",
              "      border-color: transparent;\n",
              "      border-left-color: var(--fill-color);\n",
              "      border-top-color: var(--fill-color);\n",
              "    }\n",
              "    30% {\n",
              "      border-color: transparent;\n",
              "      border-left-color: var(--fill-color);\n",
              "      border-top-color: var(--fill-color);\n",
              "      border-right-color: var(--fill-color);\n",
              "    }\n",
              "    40% {\n",
              "      border-color: transparent;\n",
              "      border-right-color: var(--fill-color);\n",
              "      border-top-color: var(--fill-color);\n",
              "    }\n",
              "    60% {\n",
              "      border-color: transparent;\n",
              "      border-right-color: var(--fill-color);\n",
              "    }\n",
              "    80% {\n",
              "      border-color: transparent;\n",
              "      border-right-color: var(--fill-color);\n",
              "      border-bottom-color: var(--fill-color);\n",
              "    }\n",
              "    90% {\n",
              "      border-color: transparent;\n",
              "      border-bottom-color: var(--fill-color);\n",
              "    }\n",
              "  }\n",
              "</style>\n",
              "\n",
              "  <script>\n",
              "    async function quickchart(key) {\n",
              "      const quickchartButtonEl =\n",
              "        document.querySelector('#' + key + ' button');\n",
              "      quickchartButtonEl.disabled = true;  // To prevent multiple clicks.\n",
              "      quickchartButtonEl.classList.add('colab-df-spinner');\n",
              "      try {\n",
              "        const charts = await google.colab.kernel.invokeFunction(\n",
              "            'suggestCharts', [key], {});\n",
              "      } catch (error) {\n",
              "        console.error('Error during call to suggestCharts:', error);\n",
              "      }\n",
              "      quickchartButtonEl.classList.remove('colab-df-spinner');\n",
              "      quickchartButtonEl.classList.add('colab-df-quickchart-complete');\n",
              "    }\n",
              "    (() => {\n",
              "      let quickchartButtonEl =\n",
              "        document.querySelector('#df-9da6fdfc-eb63-426b-a641-6192b4f9e852 button');\n",
              "      quickchartButtonEl.style.display =\n",
              "        google.colab.kernel.accessAllowed ? 'block' : 'none';\n",
              "    })();\n",
              "  </script>\n",
              "</div>\n",
              "    </div>\n",
              "  </div>\n"
            ]
          },
          "metadata": {},
          "execution_count": 4
        }
      ]
    },
    {
      "cell_type": "code",
      "source": [
        "# Найдите метод библиотеки pandas, с помощью которого можно посмотреть последние 7 строк датафрейма\n"
      ],
      "metadata": {
        "id": "_og9GzoTPI3U"
      },
      "execution_count": null,
      "outputs": []
    },
    {
      "cell_type": "markdown",
      "source": [
        "Заполните **описание данных**:\n",
        "\n",
        " * `id` - идентификатор\n",
        " * `type` - ...\n",
        " * ..."
      ],
      "metadata": {
        "id": "CJiXb9lcU2tX"
      }
    },
    {
      "cell_type": "code",
      "source": [
        "# Получим общую информацию\n",
        "df.info()"
      ],
      "metadata": {
        "id": "ElPLMzNOP9NP"
      },
      "execution_count": null,
      "outputs": []
    },
    {
      "cell_type": "code",
      "source": [
        "# Посмотрите названия колонок. Стиль названий соответствует snake_case?\n",
        "print('Yes/No')"
      ],
      "metadata": {
        "id": "TU-TXXjjRYId"
      },
      "execution_count": null,
      "outputs": []
    },
    {
      "cell_type": "code",
      "source": [
        "# Названия колонок можно сохранить в отдельную переменную с помощью атрибута columns\n",
        "df_columns = df.columns\n",
        "df_columns"
      ],
      "metadata": {
        "id": "0BtUtmi-R6_8"
      },
      "execution_count": null,
      "outputs": []
    },
    {
      "cell_type": "code",
      "source": [
        "# Найдите в выводе количество строк и столбцов в таблице. Сохраните размеры исходного датафрейма в отдельные переменные с помощью атрибута shape\n"
      ],
      "metadata": {
        "id": "zT4C1zciQOKV"
      },
      "execution_count": null,
      "outputs": []
    },
    {
      "cell_type": "code",
      "source": [
        "# Выведите на экран количество строк и столбцов\n"
      ],
      "metadata": {
        "id": "U8O7UT4nS9sW"
      },
      "execution_count": null,
      "outputs": []
    },
    {
      "cell_type": "code",
      "source": [
        "# Посмотрите на типы колонок. Все ли из них считались правильно?\n",
        "print('Yes/No')"
      ],
      "metadata": {
        "id": "tJY0jrtFRIvM"
      },
      "execution_count": null,
      "outputs": []
    },
    {
      "cell_type": "code",
      "source": [
        "# Если в данных пропуски?\n",
        "print('Yes/No')\n",
        "# Если да, то в каких столбцах?\n",
        "print('id', 'type', 'title', 'director', 'country', 'release_year', 'rating', 'duration', 'listed_in')"
      ],
      "metadata": {
        "id": "15OK-zRCSDue"
      },
      "execution_count": null,
      "outputs": []
    },
    {
      "cell_type": "markdown",
      "source": [
        "## Основные действия с датафреймом"
      ],
      "metadata": {
        "id": "Jskh9ooKLlVa"
      }
    },
    {
      "cell_type": "markdown",
      "source": [
        "### Индексация\n",
        "\n",
        "Датафрейм (DataFrame) — это двумерная структура данных pandas, где у каждого элемента — две координаты, строка и столбец. Обычно к строкам обращаются по их порядковому номеру, а к столбцам — по названиям."
      ],
      "metadata": {
        "id": "XKD0MH50RBOI"
      }
    },
    {
      "cell_type": "code",
      "source": [
        "# одна ячейка\n",
        "df.loc[4, 'title']"
      ],
      "metadata": {
        "id": "XOHx3OM5Xx6P"
      },
      "execution_count": null,
      "outputs": []
    },
    {
      "cell_type": "code",
      "source": [
        "# один столбец\n",
        "df['title']"
      ],
      "metadata": {
        "id": "dFgvicIiW2HU"
      },
      "execution_count": null,
      "outputs": []
    },
    {
      "cell_type": "code",
      "source": [
        "# несколько столбцов\n",
        "df[['title', 'country']]"
      ],
      "metadata": {
        "id": "NnpTgViFXDjS"
      },
      "execution_count": null,
      "outputs": []
    },
    {
      "cell_type": "code",
      "source": [
        "# несколько столбцов подряд\n",
        "df.loc[:, 'title': 'country']"
      ],
      "metadata": {
        "id": "HRmmNxM2XDnK"
      },
      "execution_count": null,
      "outputs": []
    },
    {
      "cell_type": "code",
      "source": [
        "# одна строка\n",
        "df.loc[3]"
      ],
      "metadata": {
        "id": "aXza5aWUXDrT"
      },
      "execution_count": null,
      "outputs": []
    },
    {
      "cell_type": "code",
      "source": [
        "# несколько строк подряд\n",
        "df[1:3]"
      ],
      "metadata": {
        "id": "N9p01vkyXmbj"
      },
      "execution_count": null,
      "outputs": []
    },
    {
      "cell_type": "markdown",
      "source": [
        "### Удаление"
      ],
      "metadata": {
        "id": "EfFR2wJyTcEL"
      }
    },
    {
      "cell_type": "code",
      "source": [
        "# удаление колонки id\n",
        "df = df.drop(['id'], axis=1)\n",
        "# запустите ячейку с просмотром таблицы, чтобы проверить результат"
      ],
      "metadata": {
        "id": "0D-b6RKRVQ75"
      },
      "execution_count": null,
      "outputs": []
    },
    {
      "cell_type": "code",
      "source": [
        "# удаление строки 1\n",
        "df = df.drop([1], axis=0)\n",
        "# запустите ячейку с просмотром таблицы, чтобы проверить результат"
      ],
      "metadata": {
        "id": "QuXE3L_dVRA2"
      },
      "execution_count": null,
      "outputs": []
    },
    {
      "cell_type": "markdown",
      "source": [
        "### Добавление/обновление"
      ],
      "metadata": {
        "id": "9AKNVXnhWwKu"
      }
    },
    {
      "cell_type": "code",
      "source": [
        "# добавление нового столбца\n",
        "df.loc[:, \"new_column\"] = 0\n",
        "# запустите ячейку с просмотром таблицы, чтобы проверить результат"
      ],
      "metadata": {
        "id": "I9bHEaltWuzQ"
      },
      "execution_count": null,
      "outputs": []
    },
    {
      "cell_type": "code",
      "source": [
        "# обновим значения в колонке new_column\n",
        "df.loc[:, \"new_column\"] = df['duration'].str.split()\n",
        "# запустите ячейку с просмотром таблицы, чтобы проверить результат"
      ],
      "metadata": {
        "id": "j7I3KemQxZtI"
      },
      "execution_count": null,
      "outputs": []
    },
    {
      "cell_type": "code",
      "source": [
        "# добавление новой строки\n",
        "df.loc[2264] = 0\n",
        "# запустите ячейку с просмотром таблицы, чтобы проверить результат"
      ],
      "metadata": {
        "id": "YEwlxA9XYyMd"
      },
      "execution_count": null,
      "outputs": []
    },
    {
      "cell_type": "code",
      "source": [
        "# обновление информации в ячейке\n",
        "df.loc[2264, 'title'] = 'Pandas'\n",
        "# запустите ячейку с просмотром таблицы, чтобы проверить результат"
      ],
      "metadata": {
        "id": "jkC2us6HyMNw"
      },
      "execution_count": null,
      "outputs": []
    },
    {
      "cell_type": "markdown",
      "source": [
        "## Фильтрация данных"
      ],
      "metadata": {
        "id": "yDLikjjGUr8O"
      }
    },
    {
      "cell_type": "code",
      "source": [
        "# выберем все сериалы\n",
        "df.query('type == \"TV Show\"')"
      ],
      "metadata": {
        "id": "NmXPOmJZzP2n"
      },
      "execution_count": null,
      "outputs": []
    },
    {
      "cell_type": "code",
      "source": [
        "# выберем все сериалы, выпущенные в Германии\n",
        "df.query('type == \"TV Show\" and country == \"Germany\"')"
      ],
      "metadata": {
        "id": "4a6KZ1SZ05Ho"
      },
      "execution_count": null,
      "outputs": []
    },
    {
      "cell_type": "code",
      "source": [
        "# выберем все сериалы, выпущенные в Германии или Австралии\n",
        "df.query('type == \"TV Show\" and country in [\"Germany\", \"Australia\"]')"
      ],
      "metadata": {
        "id": "Y8Krnt9c1JOC"
      },
      "execution_count": null,
      "outputs": []
    },
    {
      "cell_type": "code",
      "source": [
        "# выберем все сериалы, выпущенные в Германии или Австралии, но не в 2021 году\n",
        "df.query('type == \"TV Show\" and country in [\"Germany\", \"Australia\"] and release_year != 2021')"
      ],
      "metadata": {
        "id": "Jx3DVPOi1hIN"
      },
      "execution_count": null,
      "outputs": []
    },
    {
      "cell_type": "code",
      "source": [
        "# сохранить отфильтрованные данные можно так\n",
        "df_germany = df.query('country == \"Germany\"')"
      ],
      "metadata": {
        "id": "Oglt9CGQ14Bt"
      },
      "execution_count": null,
      "outputs": []
    },
    {
      "cell_type": "code",
      "source": [
        "df_germany.head(7)"
      ],
      "metadata": {
        "id": "N1Ekbq0i2K5L"
      },
      "execution_count": null,
      "outputs": []
    },
    {
      "cell_type": "markdown",
      "source": [
        "## Предобработка данных"
      ],
      "metadata": {
        "id": "D8YDoY01JKbm"
      }
    },
    {
      "cell_type": "markdown",
      "source": [
        "**Предобработка данных - это подготовка данных для анализа или обучения моделей.** Предобработка следует принципу GIGO (от англ. garbage in — garbage out, буквально **«мусор на входе — мусор на выходе»**). Это значит, что при ошибках во входных данных даже правильный алгоритм работы приведет к неверным результатам.\n",
        "\n",
        "Самые частые проблемы в данных:\n",
        "\n",
        "1.   **Дубликаты** - записи в датасете, в которых все данные одинаковые. Дубликаты приводят к избыточности, увеличивают объем выборки, при этом не повышая информативность данных.\n",
        "2.   **Пропуски** - пропущенные значения. В данных часто бывают пропуски из-за неправильного ввода или сокрытия информации. Самый простой способ избавиться от пропусков в данных — просто удалить строки, в которых есть пропущенные значения.\n",
        "3.   **Мусор** - некорректная или недостоверная информация в данных."
      ],
      "metadata": {
        "id": "IX1P8AK2JSAK"
      }
    },
    {
      "cell_type": "markdown",
      "source": [
        "## <font color='red'>Задание для самостоятельной работы</font>"
      ],
      "metadata": {
        "id": "SzUeXTut_VTA"
      }
    },
    {
      "cell_type": "markdown",
      "source": [
        "**Сделайте предобработку данных (m_dataset.csv) и ответьте на вопросы:**\n",
        "\n",
        "1.   Сколько всего фильмов в датасете?\n",
        "2.   Сколько фильмов вышло в 2010 году?\n",
        "3.   Найдите название самого короткого фильма?\n",
        "4.   Сколько всего стран, выпускающих фильмы, представлено в датасете?\n",
        "5.   Какая страна стоит на 2 месте по выпуску фильмов жанра “Children & Family Movies”?\n",
        "\n"
      ],
      "metadata": {
        "id": "7iJRBrd2Ti6x"
      }
    },
    {
      "cell_type": "code",
      "source": [],
      "metadata": {
        "id": "7BQ9w5i4TiKq"
      },
      "execution_count": null,
      "outputs": []
    }
  ]
}